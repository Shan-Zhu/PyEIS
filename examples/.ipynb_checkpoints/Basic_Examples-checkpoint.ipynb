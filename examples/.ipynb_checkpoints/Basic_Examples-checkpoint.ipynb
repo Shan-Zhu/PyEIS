{
 "metadata": {
  "name": "",
  "signature": "sha256:e1904a7f2dd1ecc36be765d9828fae9f611f6da76acf55a4e8e755eb97f51983"
 },
 "nbformat": 3,
 "nbformat_minor": 0,
 "worksheets": [
  {
   "cells": [
    {
     "cell_type": "code",
     "collapsed": false,
     "input": [
      "%matplotlib inline\n",
      "\n",
      "import numpy as np\n",
      "import pyeis\n",
      "\n",
      "import matplotlib.pyplot as plt\n",
      "\n",
      "from IPython.display import display, display_latex\n",
      "\n",
      "from sympy.interactive import printing\n",
      "printing.init_printing(use_latex='mathjax')"
     ],
     "language": "python",
     "metadata": {},
     "outputs": [],
     "prompt_number": 25
    },
    {
     "cell_type": "code",
     "collapsed": false,
     "input": [
      "print(pyeis.__version__)"
     ],
     "language": "python",
     "metadata": {},
     "outputs": [
      {
       "output_type": "stream",
       "stream": "stdout",
       "text": [
        "0.5dev\n"
       ]
      }
     ],
     "prompt_number": 26
    },
    {
     "cell_type": "code",
     "collapsed": false,
     "input": [
      "circuit = 'Rel+Cdl/Rct'\n",
      "Zs = pyeis.cdp.get_symbolic_immittance(circuit, immittance_type='Z')\n",
      "display(Is)\n",
      "\n",
      "print(pyeis.cdp._get_parameters(Is))\n",
      "\n",
      "Zm = pyeis.cdp.get_numeric_immittance(Zs)"
     ],
     "language": "python",
     "metadata": {},
     "outputs": [
      {
       "latex": [
        "$$Rel + \\frac{1.0}{1.0 i Cdl w + \\frac{1.0}{Rct}}$$"
       ],
       "metadata": {},
       "output_type": "display_data",
       "text": [
        "             1.0       \n",
        "Rel + \u2500\u2500\u2500\u2500\u2500\u2500\u2500\u2500\u2500\u2500\u2500\u2500\u2500\u2500\u2500\u2500\u2500\n",
        "                    1.0\n",
        "      1.0\u22c5\u2148\u22c5Cdl\u22c5w + \u2500\u2500\u2500\n",
        "                    Rct"
       ]
      },
      {
       "output_type": "stream",
       "stream": "stdout",
       "text": [
        "([Cdl, Rct, Rel], ['Cdl', 'Rct', 'Rel'])\n"
       ]
      }
     ],
     "prompt_number": 39
    },
    {
     "cell_type": "code",
     "collapsed": false,
     "input": [
      "f = np.logspace(-3, 6, 100)\n",
      "w = 2*np.pi*f\n",
      "p = [1e-6, 50.0, 10.0]\n",
      "\n",
      "ReZ= np.real(Zm(p, w))\n",
      "ImZ = np.imag(Zm(p,w))\n",
      "\n",
      "fig = plt.figure()\n",
      "ax = fig.add_subplot(111)\n",
      "ax.grid()\n",
      "\n",
      "ax.set_aspect('equal')\n",
      "ax.plot(ReZ, ImZ, 'ko', mfc='w')\n",
      "ax.set_ylim(plt.gca().get_ylim()[::-1])"
     ],
     "language": "python",
     "metadata": {},
     "outputs": [
      {
       "latex": [
        "$$\\begin{pmatrix}0.0, & -25.0\\end{pmatrix}$$"
       ],
       "metadata": {},
       "output_type": "pyout",
       "prompt_number": 44,
       "text": [
        "(0.0, -25.0)"
       ]
      },
      {
       "metadata": {},
       "output_type": "display_data",
       "png": "[encoded data removed]",
       "text": [
        "<matplotlib.figure.Figure at 0x7f659c87f240>"
       ]
      }
     ],
     "prompt_number": 44
    },
    {
     "cell_type": "code",
     "collapsed": false,
     "input": [],
     "language": "python",
     "metadata": {},
     "outputs": []
    }
   ],
   "metadata": {}
  }
 ]
}