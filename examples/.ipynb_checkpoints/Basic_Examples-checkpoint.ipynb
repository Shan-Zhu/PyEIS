{
 "cells": [
  {
   "cell_type": "code",
   "execution_count": 7,
   "metadata": {
    "collapsed": false
   },
   "outputs": [],
   "source": [
    "%matplotlib inline\n",
    "\n",
    "import numpy as np\n",
    "import pyeis\n",
    "\n",
    "import matplotlib.pyplot as plt\n",
    "\n",
    "from IPython.display import display, display_latex\n",
    "\n",
    "from sympy.interactive import printing\n",
    "printing.init_printing(use_latex='mathjax')"
   ]
  },
  {
   "cell_type": "code",
   "execution_count": 8,
   "metadata": {
    "collapsed": false
   },
   "outputs": [
    {
     "name": "stdout",
     "output_type": "stream",
     "text": [
      "0.5.3\n"
     ]
    }
   ],
   "source": [
    "print(pyeis.__version__)"
   ]
  },
  {
   "cell_type": "markdown",
   "metadata": {},
   "source": [
    "# Simple circuit"
   ]
  },
  {
   "cell_type": "code",
   "execution_count": 9,
   "metadata": {
    "collapsed": false
   },
   "outputs": [
    {
     "data": {
      "text/latex": [
       "$$Rel + \\frac{1.0}{1.0 i Cdl w + \\frac{1.0}{Rct}}$$"
      ],
      "text/plain": [
       "             1.0       \n",
       "Rel + ─────────────────\n",
       "                    1.0\n",
       "      1.0⋅ⅈ⋅Cdl⋅w + ───\n",
       "                    Rct"
      ]
     },
     "metadata": {},
     "output_type": "display_data"
    },
    {
     "name": "stdout",
     "output_type": "stream",
     "text": [
      "([Cdl, Rel, Rct], ['Cdl', 'Rel', 'Rct'])\n"
     ]
    }
   ],
   "source": [
    "circuit = 'Rel+Cdl/Rct'\n",
    "Zs = pyeis.cdp.get_symbolic_immittance(circuit, immittance_type='Z')\n",
    "display(Zs)\n",
    "\n",
    "print(pyeis.cdp._get_parameters(Zs))\n",
    "\n",
    "Zm = pyeis.cdp.get_numeric_immittance(Zs)"
   ]
  },
  {
   "cell_type": "code",
   "execution_count": 10,
   "metadata": {
    "collapsed": false
   },
   "outputs": [
    {
     "data": {
      "text/latex": [
       "$$\\left ( 0.0, \\quad -5.0\\right )$$"
      ],
      "text/plain": [
       "(0.0, -5.0)"
      ]
     },
     "execution_count": 10,
     "metadata": {},
     "output_type": "execute_result"
    },
    {
     "data": {
      "image/png": "[encoded data removed]",
      "text/plain": [
       "<matplotlib.figure.Figure at 0xa86ada0>"
      ]
     },
     "metadata": {},
     "output_type": "display_data"
    }
   ],
   "source": [
    "f = np.logspace(-3, 6, 100)\n",
    "w = 2*np.pi*f\n",
    "p = [1e-6, 50.0, 10.0]\n",
    "\n",
    "ReZ= np.real(Zm(p, w))\n",
    "ImZ = np.imag(Zm(p,w))\n",
    "\n",
    "fig = plt.figure()\n",
    "ax = fig.add_subplot(111)\n",
    "ax.grid()\n",
    "\n",
    "ax.set_aspect('equal')\n",
    "ax.plot(ReZ, ImZ, 'ko', mfc='w')\n",
    "ax.set_ylim(plt.gca().get_ylim()[::-1])"
   ]
  },
  {
   "cell_type": "code",
   "execution_count": null,
   "metadata": {
    "collapsed": false
   },
   "outputs": [],
   "source": []
  }
 ],
 "metadata": {
  "kernelspec": {
   "display_name": "Python 3",
   "language": "python",
   "name": "python3"
  },
  "language_info": {
   "codemirror_mode": {
    "name": "ipython",
    "version": 3
   },
   "file_extension": ".py",
   "mimetype": "text/x-python",
   "name": "python",
   "nbconvert_exporter": "python",
   "pygments_lexer": "ipython3",
   "version": "3.4.3"
  }
 },
 "nbformat": 4,
 "nbformat_minor": 0
}
